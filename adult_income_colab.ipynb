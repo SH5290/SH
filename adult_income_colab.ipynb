{
  "nbformat": 4,
  "nbformat_minor": 5,
  "metadata": {
    "kernelspec": {
      "display_name": "Python 3",
      "language": "python",
      "name": "python3"
    },
    "language_info": {
      "codemirror_mode": {
        "name": "ipython",
        "version": 3
      },
      "file_extension": ".py",
      "mimetype": "text/x-python",
      "name": "python",
      "nbconvert_exporter": "python",
      "pygments_lexer": "ipython3",
      "version": "3.8.5"
    },
    "colab": {
      "name": "adult_income.ipynb",
      "provenance": [],
      "collapsed_sections": []
    }
  },
  "cells": [
    {
      "cell_type": "code",
      "metadata": {
        "id": "BlG0xEBodFxZ"
      },
      "source": [
        "# Import Required Packages\n",
        "\n",
        "from pandas import read_csv\n",
        "from sklearn.model_selection import train_test_split\n",
        "from sklearn.preprocessing import LabelEncoder\n",
        "from sklearn.preprocessing import OneHotEncoder\n",
        "from keras.models import Sequential\n",
        "from keras.layers import Dense,Dropout,Activation\n",
        "from keras.optimizers import Adam\n",
        "import matplotlib.pyplot as plt\n"
      ],
      "id": "BlG0xEBodFxZ",
      "execution_count": null,
      "outputs": []
    },
    {
      "cell_type": "code",
      "metadata": {
        "id": "DnYeArBTdFxd"
      },
      "source": [
        "url = 'https://raw.githubusercontent.com/wbslivera/adult_income/main/adult_2.csv'\n",
        "data = read_csv(url)\n",
        "dataset = data.values"
      ],
      "id": "DnYeArBTdFxd",
      "execution_count": null,
      "outputs": []
    },
    {
      "cell_type": "code",
      "metadata": {
        "id": "GbtUR5NOdFxe"
      },
      "source": [
        "# x input features and y output\n",
        "X = dataset[:, :-1]\n",
        "y = dataset[:,-1]"
      ],
      "id": "GbtUR5NOdFxe",
      "execution_count": null,
      "outputs": []
    },
    {
      "cell_type": "code",
      "metadata": {
        "id": "TebJNzQsdFxe"
      },
      "source": [
        "# format all fields as string\n",
        "X = X.astype(str)\n",
        "# reshape target to be a 2d array\n",
        "y = y.reshape((len(y), 1))"
      ],
      "id": "TebJNzQsdFxe",
      "execution_count": null,
      "outputs": []
    },
    {
      "cell_type": "code",
      "metadata": {
        "id": "o1cPn36IdFxe"
      },
      "source": [
        "# Split train and test data sets, 66% train and 33% Test\n",
        "X_train, X_test, y_train, y_test = train_test_split(X, y, test_size=0.33, random_state=1)"
      ],
      "id": "o1cPn36IdFxe",
      "execution_count": null,
      "outputs": []
    },
    {
      "cell_type": "code",
      "metadata": {
        "colab": {
          "base_uri": "https://localhost:8080/"
        },
        "id": "-1VVEqmOdFxf",
        "outputId": "61cd621f-8d50-4c9e-e243-9d9f9d4889ad"
      },
      "source": [
        "print('Train', X_train.shape, y_train.shape)\n",
        "print('Test', X_test.shape, y_test.shape)"
      ],
      "id": "-1VVEqmOdFxf",
      "execution_count": null,
      "outputs": [
        {
          "output_type": "stream",
          "text": [
            "Train (30298, 14) (30298, 1)\n",
            "Test (14924, 14) (14924, 1)\n"
          ],
          "name": "stdout"
        }
      ]
    },
    {
      "cell_type": "code",
      "metadata": {
        "id": "-kknVYaFdFxi"
      },
      "source": [
        "def prepare_inputs(X_train, X_test):\n",
        " oe = OneHotEncoder(handle_unknown = \"ignore\")\n",
        " oe.fit(X_train)\n",
        " X_train_enc = oe.transform(X_train)\n",
        " X_test_enc = oe.transform(X_test)\n",
        " return X_train_enc, X_test_enc"
      ],
      "id": "-kknVYaFdFxi",
      "execution_count": null,
      "outputs": []
    },
    {
      "cell_type": "code",
      "metadata": {
        "id": "iApWcPFCdFxi"
      },
      "source": [
        "def prepare_targets(y_train, y_test):\n",
        " le = LabelEncoder()\n",
        " le.fit(y_train)\n",
        " y_train_enc = le.transform(y_train)\n",
        " y_test_enc = le.transform(y_test)\n",
        " return y_train_enc, y_test_enc"
      ],
      "id": "iApWcPFCdFxi",
      "execution_count": null,
      "outputs": []
    },
    {
      "cell_type": "code",
      "metadata": {
        "colab": {
          "base_uri": "https://localhost:8080/"
        },
        "id": "_M-cWX-qdFxj",
        "outputId": "995bbda6-0a9e-45cc-ef7a-022c4725e4a2"
      },
      "source": [
        "# prepare input data\n",
        "X_train_enc, X_test_enc = prepare_inputs(X_train, X_test)\n",
        "# prepare output data\n",
        "y_train_enc, y_test_enc = prepare_targets(y_train, y_test)"
      ],
      "id": "_M-cWX-qdFxj",
      "execution_count": null,
      "outputs": [
        {
          "output_type": "stream",
          "text": [
            "/usr/local/lib/python3.7/dist-packages/sklearn/preprocessing/_label.py:235: DataConversionWarning: A column-vector y was passed when a 1d array was expected. Please change the shape of y to (n_samples, ), for example using ravel().\n",
            "  y = column_or_1d(y, warn=True)\n",
            "/usr/local/lib/python3.7/dist-packages/sklearn/preprocessing/_label.py:268: DataConversionWarning: A column-vector y was passed when a 1d array was expected. Please change the shape of y to (n_samples, ), for example using ravel().\n",
            "  y = column_or_1d(y, warn=True)\n"
          ],
          "name": "stderr"
        }
      ]
    },
    {
      "cell_type": "code",
      "metadata": {
        "id": "vSdSX4Y7dFxj"
      },
      "source": [
        "model = Sequential([\n",
        "  Dense(8, activation='relu', input_shape = [X_train_enc.shape[1]]),\n",
        "  Dense(4, activation='relu'),  \n",
        "  Dense(2, activation='softmax')                     \n",
        "])\n",
        "\n",
        "model.compile(optimizer='adam',\n",
        "              loss='sparse_categorical_crossentropy',\n",
        "              metrics=['accuracy'])"
      ],
      "id": "vSdSX4Y7dFxj",
      "execution_count": null,
      "outputs": []
    },
    {
      "cell_type": "code",
      "metadata": {
        "colab": {
          "base_uri": "https://localhost:8080/"
        },
        "id": "y2izI7wodFxk",
        "outputId": "e800b8a8-4650-4ee6-ce39-8d6d008ceab7"
      },
      "source": [
        "print(model.summary())"
      ],
      "id": "y2izI7wodFxk",
      "execution_count": null,
      "outputs": [
        {
          "output_type": "stream",
          "text": [
            "Model: \"sequential\"\n",
            "_________________________________________________________________\n",
            "Layer (type)                 Output Shape              Param #   \n",
            "=================================================================\n",
            "dense (Dense)                (None, 8)                 166272    \n",
            "_________________________________________________________________\n",
            "dense_1 (Dense)              (None, 4)                 36        \n",
            "_________________________________________________________________\n",
            "dense_2 (Dense)              (None, 2)                 10        \n",
            "=================================================================\n",
            "Total params: 166,318\n",
            "Trainable params: 166,318\n",
            "Non-trainable params: 0\n",
            "_________________________________________________________________\n",
            "None\n"
          ],
          "name": "stdout"
        }
      ]
    },
    {
      "cell_type": "code",
      "metadata": {
        "colab": {
          "base_uri": "https://localhost:8080/"
        },
        "id": "2lbIb93idFxl",
        "outputId": "b7551bf6-4af1-414c-e78e-b367903dfd1e"
      },
      "source": [
        "history = model.fit(X_train_enc, y_train_enc, batch_size=500, epochs=100, validation_data=(X_test_enc, y_test_enc))"
      ],
      "id": "2lbIb93idFxl",
      "execution_count": null,
      "outputs": [
        {
          "output_type": "stream",
          "text": [
            "Epoch 1/100\n",
            "61/61 [==============================] - 1s 8ms/step - loss: 0.5835 - accuracy: 0.7535 - val_loss: 0.4152 - val_accuracy: 0.7497\n",
            "Epoch 2/100\n",
            "61/61 [==============================] - 0s 6ms/step - loss: 0.3920 - accuracy: 0.7549 - val_loss: 0.3769 - val_accuracy: 0.7693\n",
            "Epoch 3/100\n",
            "61/61 [==============================] - 0s 6ms/step - loss: 0.3563 - accuracy: 0.8269 - val_loss: 0.3525 - val_accuracy: 0.8518\n",
            "Epoch 4/100\n",
            "61/61 [==============================] - 0s 6ms/step - loss: 0.3197 - accuracy: 0.8732 - val_loss: 0.3229 - val_accuracy: 0.8592\n",
            "Epoch 5/100\n",
            "61/61 [==============================] - 0s 5ms/step - loss: 0.2748 - accuracy: 0.8920 - val_loss: 0.3079 - val_accuracy: 0.8614\n",
            "Epoch 6/100\n",
            "61/61 [==============================] - 0s 5ms/step - loss: 0.2440 - accuracy: 0.9062 - val_loss: 0.3038 - val_accuracy: 0.8606\n",
            "Epoch 7/100\n",
            "61/61 [==============================] - 0s 6ms/step - loss: 0.2104 - accuracy: 0.9217 - val_loss: 0.3008 - val_accuracy: 0.8628\n",
            "Epoch 8/100\n",
            "61/61 [==============================] - 0s 5ms/step - loss: 0.1888 - accuracy: 0.9307 - val_loss: 0.3036 - val_accuracy: 0.8588\n",
            "Epoch 9/100\n",
            "61/61 [==============================] - 0s 5ms/step - loss: 0.1676 - accuracy: 0.9411 - val_loss: 0.3102 - val_accuracy: 0.8552\n",
            "Epoch 10/100\n",
            "61/61 [==============================] - 0s 5ms/step - loss: 0.1537 - accuracy: 0.9442 - val_loss: 0.3194 - val_accuracy: 0.8520\n",
            "Epoch 11/100\n",
            "61/61 [==============================] - 0s 5ms/step - loss: 0.1364 - accuracy: 0.9539 - val_loss: 0.3275 - val_accuracy: 0.8516\n",
            "Epoch 12/100\n",
            "61/61 [==============================] - 0s 5ms/step - loss: 0.1209 - accuracy: 0.9599 - val_loss: 0.3411 - val_accuracy: 0.8485\n",
            "Epoch 13/100\n",
            "61/61 [==============================] - 0s 5ms/step - loss: 0.1123 - accuracy: 0.9613 - val_loss: 0.3529 - val_accuracy: 0.8460\n",
            "Epoch 14/100\n",
            "61/61 [==============================] - 0s 5ms/step - loss: 0.1012 - accuracy: 0.9650 - val_loss: 0.3657 - val_accuracy: 0.8440\n",
            "Epoch 15/100\n",
            "61/61 [==============================] - 0s 5ms/step - loss: 0.0933 - accuracy: 0.9672 - val_loss: 0.3805 - val_accuracy: 0.8441\n",
            "Epoch 16/100\n",
            "61/61 [==============================] - 0s 5ms/step - loss: 0.0899 - accuracy: 0.9661 - val_loss: 0.3952 - val_accuracy: 0.8426\n",
            "Epoch 17/100\n",
            "61/61 [==============================] - 0s 6ms/step - loss: 0.0867 - accuracy: 0.9663 - val_loss: 0.4077 - val_accuracy: 0.8415\n",
            "Epoch 18/100\n",
            "61/61 [==============================] - 0s 6ms/step - loss: 0.0832 - accuracy: 0.9661 - val_loss: 0.4218 - val_accuracy: 0.8419\n",
            "Epoch 19/100\n",
            "61/61 [==============================] - 0s 6ms/step - loss: 0.0799 - accuracy: 0.9672 - val_loss: 0.4337 - val_accuracy: 0.8378\n",
            "Epoch 20/100\n",
            "61/61 [==============================] - 0s 6ms/step - loss: 0.0754 - accuracy: 0.9688 - val_loss: 0.4434 - val_accuracy: 0.8408\n",
            "Epoch 21/100\n",
            "61/61 [==============================] - 0s 6ms/step - loss: 0.0740 - accuracy: 0.9693 - val_loss: 0.4554 - val_accuracy: 0.8378\n",
            "Epoch 22/100\n",
            "61/61 [==============================] - 0s 6ms/step - loss: 0.0756 - accuracy: 0.9684 - val_loss: 0.4646 - val_accuracy: 0.8388\n",
            "Epoch 23/100\n",
            "61/61 [==============================] - 0s 6ms/step - loss: 0.0750 - accuracy: 0.9668 - val_loss: 0.4746 - val_accuracy: 0.8344\n",
            "Epoch 24/100\n",
            "61/61 [==============================] - 0s 6ms/step - loss: 0.0751 - accuracy: 0.9665 - val_loss: 0.4851 - val_accuracy: 0.8417\n",
            "Epoch 25/100\n",
            "61/61 [==============================] - 0s 6ms/step - loss: 0.0722 - accuracy: 0.9682 - val_loss: 0.4889 - val_accuracy: 0.8356\n",
            "Epoch 26/100\n",
            "61/61 [==============================] - 0s 6ms/step - loss: 0.0681 - accuracy: 0.9699 - val_loss: 0.4956 - val_accuracy: 0.8408\n",
            "Epoch 27/100\n",
            "61/61 [==============================] - 0s 6ms/step - loss: 0.0698 - accuracy: 0.9690 - val_loss: 0.5031 - val_accuracy: 0.8342\n",
            "Epoch 28/100\n",
            "61/61 [==============================] - 0s 5ms/step - loss: 0.0704 - accuracy: 0.9692 - val_loss: 0.5078 - val_accuracy: 0.8366\n",
            "Epoch 29/100\n",
            "61/61 [==============================] - 0s 6ms/step - loss: 0.0720 - accuracy: 0.9678 - val_loss: 0.5139 - val_accuracy: 0.8366\n",
            "Epoch 30/100\n",
            "61/61 [==============================] - 0s 6ms/step - loss: 0.0691 - accuracy: 0.9694 - val_loss: 0.5195 - val_accuracy: 0.8367\n",
            "Epoch 31/100\n",
            "61/61 [==============================] - 0s 5ms/step - loss: 0.0670 - accuracy: 0.9713 - val_loss: 0.5279 - val_accuracy: 0.8326\n",
            "Epoch 32/100\n",
            "61/61 [==============================] - 0s 6ms/step - loss: 0.0699 - accuracy: 0.9686 - val_loss: 0.5314 - val_accuracy: 0.8372\n",
            "Epoch 33/100\n",
            "61/61 [==============================] - 0s 6ms/step - loss: 0.0684 - accuracy: 0.9700 - val_loss: 0.5347 - val_accuracy: 0.8364\n",
            "Epoch 34/100\n",
            "61/61 [==============================] - 0s 6ms/step - loss: 0.0689 - accuracy: 0.9687 - val_loss: 0.5416 - val_accuracy: 0.8348\n",
            "Epoch 35/100\n",
            "61/61 [==============================] - 0s 6ms/step - loss: 0.0699 - accuracy: 0.9697 - val_loss: 0.5440 - val_accuracy: 0.8343\n",
            "Epoch 36/100\n",
            "61/61 [==============================] - 0s 6ms/step - loss: 0.0674 - accuracy: 0.9696 - val_loss: 0.5574 - val_accuracy: 0.8303\n",
            "Epoch 37/100\n",
            "61/61 [==============================] - 0s 6ms/step - loss: 0.0673 - accuracy: 0.9696 - val_loss: 0.5527 - val_accuracy: 0.8341\n",
            "Epoch 38/100\n",
            "61/61 [==============================] - 0s 6ms/step - loss: 0.0678 - accuracy: 0.9697 - val_loss: 0.5570 - val_accuracy: 0.8347\n",
            "Epoch 39/100\n",
            "61/61 [==============================] - 0s 6ms/step - loss: 0.0645 - accuracy: 0.9714 - val_loss: 0.5593 - val_accuracy: 0.8352\n",
            "Epoch 40/100\n",
            "61/61 [==============================] - 0s 6ms/step - loss: 0.0671 - accuracy: 0.9699 - val_loss: 0.5660 - val_accuracy: 0.8332\n",
            "Epoch 41/100\n",
            "61/61 [==============================] - 0s 6ms/step - loss: 0.0660 - accuracy: 0.9710 - val_loss: 0.5715 - val_accuracy: 0.8313\n",
            "Epoch 42/100\n",
            "61/61 [==============================] - 0s 6ms/step - loss: 0.0688 - accuracy: 0.9695 - val_loss: 0.5745 - val_accuracy: 0.8320\n",
            "Epoch 43/100\n",
            "61/61 [==============================] - 0s 5ms/step - loss: 0.0667 - accuracy: 0.9699 - val_loss: 0.5740 - val_accuracy: 0.8339\n",
            "Epoch 44/100\n",
            "61/61 [==============================] - 0s 6ms/step - loss: 0.0662 - accuracy: 0.9692 - val_loss: 0.5777 - val_accuracy: 0.8327\n",
            "Epoch 45/100\n",
            "61/61 [==============================] - 0s 6ms/step - loss: 0.0690 - accuracy: 0.9693 - val_loss: 0.5782 - val_accuracy: 0.8337\n",
            "Epoch 46/100\n",
            "61/61 [==============================] - 0s 6ms/step - loss: 0.0663 - accuracy: 0.9695 - val_loss: 0.5841 - val_accuracy: 0.8313\n",
            "Epoch 47/100\n",
            "61/61 [==============================] - 0s 6ms/step - loss: 0.0711 - accuracy: 0.9685 - val_loss: 0.5877 - val_accuracy: 0.8304\n",
            "Epoch 48/100\n",
            "61/61 [==============================] - 0s 6ms/step - loss: 0.0671 - accuracy: 0.9691 - val_loss: 0.5913 - val_accuracy: 0.8309\n",
            "Epoch 49/100\n",
            "61/61 [==============================] - 0s 6ms/step - loss: 0.0646 - accuracy: 0.9702 - val_loss: 0.5925 - val_accuracy: 0.8348\n",
            "Epoch 50/100\n",
            "61/61 [==============================] - 0s 6ms/step - loss: 0.0681 - accuracy: 0.9687 - val_loss: 0.5970 - val_accuracy: 0.8295\n",
            "Epoch 51/100\n",
            "61/61 [==============================] - 0s 6ms/step - loss: 0.0665 - accuracy: 0.9697 - val_loss: 0.5968 - val_accuracy: 0.8337\n",
            "Epoch 52/100\n",
            "61/61 [==============================] - 0s 6ms/step - loss: 0.0694 - accuracy: 0.9686 - val_loss: 0.5994 - val_accuracy: 0.8301\n",
            "Epoch 53/100\n",
            "61/61 [==============================] - 0s 6ms/step - loss: 0.0655 - accuracy: 0.9702 - val_loss: 0.5988 - val_accuracy: 0.8337\n",
            "Epoch 54/100\n",
            "61/61 [==============================] - 0s 5ms/step - loss: 0.0647 - accuracy: 0.9720 - val_loss: 0.6017 - val_accuracy: 0.8328\n",
            "Epoch 55/100\n",
            "61/61 [==============================] - 0s 6ms/step - loss: 0.0652 - accuracy: 0.9702 - val_loss: 0.6036 - val_accuracy: 0.8318\n",
            "Epoch 56/100\n",
            "61/61 [==============================] - 0s 6ms/step - loss: 0.0653 - accuracy: 0.9697 - val_loss: 0.6130 - val_accuracy: 0.8264\n",
            "Epoch 57/100\n",
            "61/61 [==============================] - 0s 6ms/step - loss: 0.0643 - accuracy: 0.9707 - val_loss: 0.6119 - val_accuracy: 0.8285\n",
            "Epoch 58/100\n",
            "61/61 [==============================] - 0s 5ms/step - loss: 0.0659 - accuracy: 0.9699 - val_loss: 0.6137 - val_accuracy: 0.8281\n",
            "Epoch 59/100\n",
            "61/61 [==============================] - 0s 5ms/step - loss: 0.0642 - accuracy: 0.9709 - val_loss: 0.6123 - val_accuracy: 0.8346\n",
            "Epoch 60/100\n",
            "61/61 [==============================] - 0s 6ms/step - loss: 0.0659 - accuracy: 0.9706 - val_loss: 0.6214 - val_accuracy: 0.8261\n",
            "Epoch 61/100\n",
            "61/61 [==============================] - 0s 5ms/step - loss: 0.0671 - accuracy: 0.9679 - val_loss: 0.6174 - val_accuracy: 0.8296\n",
            "Epoch 62/100\n",
            "61/61 [==============================] - 0s 5ms/step - loss: 0.0668 - accuracy: 0.9697 - val_loss: 0.6180 - val_accuracy: 0.8303\n",
            "Epoch 63/100\n",
            "61/61 [==============================] - 1s 7ms/step - loss: 0.0660 - accuracy: 0.9704 - val_loss: 0.6196 - val_accuracy: 0.8340\n",
            "Epoch 64/100\n",
            "61/61 [==============================] - 0s 5ms/step - loss: 0.0644 - accuracy: 0.9709 - val_loss: 0.6240 - val_accuracy: 0.8315\n",
            "Epoch 65/100\n",
            "61/61 [==============================] - 0s 5ms/step - loss: 0.0682 - accuracy: 0.9690 - val_loss: 0.6254 - val_accuracy: 0.8272\n",
            "Epoch 66/100\n",
            "61/61 [==============================] - 0s 5ms/step - loss: 0.0673 - accuracy: 0.9687 - val_loss: 0.6253 - val_accuracy: 0.8286\n",
            "Epoch 67/100\n",
            "61/61 [==============================] - 0s 6ms/step - loss: 0.0644 - accuracy: 0.9709 - val_loss: 0.6290 - val_accuracy: 0.8277\n",
            "Epoch 68/100\n",
            "61/61 [==============================] - 0s 5ms/step - loss: 0.0651 - accuracy: 0.9694 - val_loss: 0.6282 - val_accuracy: 0.8316\n",
            "Epoch 69/100\n",
            "61/61 [==============================] - 0s 5ms/step - loss: 0.0652 - accuracy: 0.9695 - val_loss: 0.6313 - val_accuracy: 0.8270\n",
            "Epoch 70/100\n",
            "61/61 [==============================] - 0s 6ms/step - loss: 0.0645 - accuracy: 0.9700 - val_loss: 0.6322 - val_accuracy: 0.8295\n",
            "Epoch 71/100\n",
            "61/61 [==============================] - 0s 5ms/step - loss: 0.0651 - accuracy: 0.9693 - val_loss: 0.6392 - val_accuracy: 0.8250\n",
            "Epoch 72/100\n",
            "61/61 [==============================] - 0s 5ms/step - loss: 0.0658 - accuracy: 0.9701 - val_loss: 0.6346 - val_accuracy: 0.8320\n",
            "Epoch 73/100\n",
            "61/61 [==============================] - 0s 5ms/step - loss: 0.0636 - accuracy: 0.9705 - val_loss: 0.6400 - val_accuracy: 0.8280\n",
            "Epoch 74/100\n",
            "61/61 [==============================] - 0s 5ms/step - loss: 0.0630 - accuracy: 0.9718 - val_loss: 0.6425 - val_accuracy: 0.8259\n",
            "Epoch 75/100\n",
            "61/61 [==============================] - 0s 5ms/step - loss: 0.0651 - accuracy: 0.9704 - val_loss: 0.6495 - val_accuracy: 0.8240\n",
            "Epoch 76/100\n",
            "61/61 [==============================] - 0s 5ms/step - loss: 0.0646 - accuracy: 0.9718 - val_loss: 0.6413 - val_accuracy: 0.8295\n",
            "Epoch 77/100\n",
            "61/61 [==============================] - 0s 5ms/step - loss: 0.0667 - accuracy: 0.9702 - val_loss: 0.6496 - val_accuracy: 0.8250\n",
            "Epoch 78/100\n",
            "61/61 [==============================] - 0s 6ms/step - loss: 0.0648 - accuracy: 0.9709 - val_loss: 0.6444 - val_accuracy: 0.8301\n",
            "Epoch 79/100\n",
            "61/61 [==============================] - 0s 6ms/step - loss: 0.0692 - accuracy: 0.9679 - val_loss: 0.6487 - val_accuracy: 0.8273\n",
            "Epoch 80/100\n",
            "61/61 [==============================] - 0s 6ms/step - loss: 0.0646 - accuracy: 0.9693 - val_loss: 0.6463 - val_accuracy: 0.8310\n",
            "Epoch 81/100\n",
            "61/61 [==============================] - 0s 6ms/step - loss: 0.0657 - accuracy: 0.9706 - val_loss: 0.6498 - val_accuracy: 0.8277\n",
            "Epoch 82/100\n",
            "61/61 [==============================] - 0s 6ms/step - loss: 0.0628 - accuracy: 0.9711 - val_loss: 0.6511 - val_accuracy: 0.8276\n",
            "Epoch 83/100\n",
            "61/61 [==============================] - 0s 6ms/step - loss: 0.0649 - accuracy: 0.9692 - val_loss: 0.6512 - val_accuracy: 0.8315\n",
            "Epoch 84/100\n",
            "61/61 [==============================] - 0s 6ms/step - loss: 0.0639 - accuracy: 0.9699 - val_loss: 0.6528 - val_accuracy: 0.8270\n",
            "Epoch 85/100\n",
            "61/61 [==============================] - 0s 6ms/step - loss: 0.0648 - accuracy: 0.9699 - val_loss: 0.6547 - val_accuracy: 0.8307\n",
            "Epoch 86/100\n",
            "61/61 [==============================] - 0s 6ms/step - loss: 0.0680 - accuracy: 0.9690 - val_loss: 0.6515 - val_accuracy: 0.8296\n",
            "Epoch 87/100\n",
            "61/61 [==============================] - 0s 6ms/step - loss: 0.0647 - accuracy: 0.9704 - val_loss: 0.6583 - val_accuracy: 0.8274\n",
            "Epoch 88/100\n",
            "61/61 [==============================] - 0s 6ms/step - loss: 0.0647 - accuracy: 0.9704 - val_loss: 0.6645 - val_accuracy: 0.8254\n",
            "Epoch 89/100\n",
            "61/61 [==============================] - 0s 6ms/step - loss: 0.0653 - accuracy: 0.9695 - val_loss: 0.6606 - val_accuracy: 0.8275\n",
            "Epoch 90/100\n",
            "61/61 [==============================] - 0s 6ms/step - loss: 0.0644 - accuracy: 0.9699 - val_loss: 0.6691 - val_accuracy: 0.8215\n",
            "Epoch 91/100\n",
            "61/61 [==============================] - 0s 6ms/step - loss: 0.0628 - accuracy: 0.9714 - val_loss: 0.6692 - val_accuracy: 0.8236\n",
            "Epoch 92/100\n",
            "61/61 [==============================] - 0s 6ms/step - loss: 0.0656 - accuracy: 0.9695 - val_loss: 0.6631 - val_accuracy: 0.8284\n",
            "Epoch 93/100\n",
            "61/61 [==============================] - 0s 6ms/step - loss: 0.0624 - accuracy: 0.9713 - val_loss: 0.6685 - val_accuracy: 0.8271\n",
            "Epoch 94/100\n",
            "61/61 [==============================] - 0s 6ms/step - loss: 0.0647 - accuracy: 0.9701 - val_loss: 0.6676 - val_accuracy: 0.8265\n",
            "Epoch 95/100\n",
            "61/61 [==============================] - 0s 6ms/step - loss: 0.0664 - accuracy: 0.9693 - val_loss: 0.6676 - val_accuracy: 0.8277\n",
            "Epoch 96/100\n",
            "61/61 [==============================] - 0s 6ms/step - loss: 0.0632 - accuracy: 0.9710 - val_loss: 0.6716 - val_accuracy: 0.8269\n",
            "Epoch 97/100\n",
            "61/61 [==============================] - 0s 6ms/step - loss: 0.0617 - accuracy: 0.9716 - val_loss: 0.6730 - val_accuracy: 0.8248\n",
            "Epoch 98/100\n",
            "61/61 [==============================] - 0s 6ms/step - loss: 0.0636 - accuracy: 0.9705 - val_loss: 0.6748 - val_accuracy: 0.8256\n",
            "Epoch 99/100\n",
            "61/61 [==============================] - 0s 6ms/step - loss: 0.0625 - accuracy: 0.9702 - val_loss: 0.6774 - val_accuracy: 0.8260\n",
            "Epoch 100/100\n",
            "61/61 [==============================] - 0s 7ms/step - loss: 0.0623 - accuracy: 0.9713 - val_loss: 0.6750 - val_accuracy: 0.8264\n"
          ],
          "name": "stdout"
        }
      ]
    },
    {
      "cell_type": "code",
      "metadata": {
        "colab": {
          "base_uri": "https://localhost:8080/"
        },
        "id": "uSLac3qMdFxl",
        "outputId": "4cde099d-f5d3-4cef-8c0f-4d26b398ddab"
      },
      "source": [
        "test_loss, test_acc = model.evaluate(X_test_enc, y_test_enc, verbose=2)"
      ],
      "id": "uSLac3qMdFxl",
      "execution_count": null,
      "outputs": [
        {
          "output_type": "stream",
          "text": [
            "467/467 - 0s - loss: 0.6750 - accuracy: 0.8264\n"
          ],
          "name": "stdout"
        }
      ]
    },
    {
      "cell_type": "code",
      "metadata": {
        "colab": {
          "base_uri": "https://localhost:8080/",
          "height": 295
        },
        "id": "sbveJNnrdFxl",
        "outputId": "12cff211-0508-43b1-b7be-8aafc7d3654c"
      },
      "source": [
        "plt.plot(history.history['accuracy'])\n",
        "plt.plot(history.history['val_accuracy'])\n",
        "plt.title('Model accuracy')\n",
        "plt.ylabel('Accuracy')\n",
        "plt.xlabel('Epoch')\n",
        "plt.legend(['Train', 'Test'], loc='upper left')\n",
        "plt.show()"
      ],
      "id": "sbveJNnrdFxl",
      "execution_count": null,
      "outputs": [
        {
          "output_type": "display_data",
          "data": {
            "image/png": "[encoded data removed]",
            "text/plain": [
              "<Figure size 432x288 with 1 Axes>"
            ]
          },
          "metadata": {
            "tags": [],
            "needs_background": "light"
          }
        }
      ]
    },
    {
      "cell_type": "code",
      "metadata": {
        "colab": {
          "base_uri": "https://localhost:8080/",
          "height": 295
        },
        "id": "GXKTkh_fdFxm",
        "outputId": "ab960090-c5cd-4e12-f655-e84b4ef35159"
      },
      "source": [
        "plt.plot(history.history['loss'])\n",
        "plt.plot(history.history['val_loss'])\n",
        "plt.title('Model loss')\n",
        "plt.ylabel('Loss')\n",
        "plt.xlabel('Epoch')\n",
        "plt.legend(['Train', 'Test'], loc='upper left')\n",
        "plt.show()"
      ],
      "id": "GXKTkh_fdFxm",
      "execution_count": null,
      "outputs": [
        {
          "output_type": "display_data",
          "data": {
            "image/png": "[encoded data removed]",
            "text/plain": [
              "<Figure size 432x288 with 1 Axes>"
            ]
          },
          "metadata": {
            "tags": [],
            "needs_background": "light"
          }
        }
      ]
    }
  ]
}